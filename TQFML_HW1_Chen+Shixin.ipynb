{
 "cells": [
  {
   "cell_type": "markdown",
   "metadata": {},
   "source": [
    "# Homework 1 in TQFML by Chen Shixin(1601213497)\n",
    "### Import Pakages"
   ]
  },
  {
   "cell_type": "code",
   "execution_count": 49,
   "metadata": {
    "collapsed": false
   },
   "outputs": [],
   "source": [
    "import pandas as pd\n",
    "import numpy as np\n",
    "from sklearn.preprocessing import MinMaxScaler\n",
    "from sklearn.cross_validation import train_test_split\n",
    "from sklearn.svm import SVC\n",
    "from sklearn.tree import DecisionTreeClassifier\n",
    "from sklearn.linear_model import LogisticRegression\n",
    "from sklearn.metrics import accuracy_score\n",
    "import matplotlib.pyplot as plt\n",
    "from matplotlib.colors import ListedColormap"
   ]
  },
  {
   "cell_type": "markdown",
   "metadata": {},
   "source": [
    "### Import Data and Format Transform"
   ]
  },
  {
   "cell_type": "code",
   "execution_count": 50,
   "metadata": {
    "collapsed": true
   },
   "outputs": [],
   "source": [
    "input_file_path = \"bank.csv\"\n",
    "output_file_path = \"bank_new.csv\"\n",
    "with open(input_file_path, 'r') as f1, \\\n",
    "    open(output_file_path, 'w') as f2:\n",
    "    for eachLine in f1.readlines():\n",
    "        f2.write(eachLine.replace(';', ','))\n",
    "\n",
    "bank_frm = pd.read_csv('bank_new.csv')\n",
    "bank_frm = pd.get_dummies(bank_frm,columns=['y'])"
   ]
  },
  {
   "cell_type": "markdown",
   "metadata": {},
   "source": [
    "### Defind Plot Function"
   ]
  },
  {
   "cell_type": "code",
   "execution_count": 51,
   "metadata": {
    "collapsed": true
   },
   "outputs": [],
   "source": [
    "def plot_decision_regions(X, y, classifier, test_idx=None, resolution=0.02):\n",
    "\n",
    "    # setup marker generator and color map\n",
    "    markers = ['s', 'x', 'o', '^', 'v']\n",
    "    colors = ['red', 'blue', 'lightgreen', 'gray', 'cyan']\n",
    "    cmap = ListedColormap(colors[:len(np.unique(y))])\n",
    "\n",
    "    # plot the decision surface\n",
    "    x1_min, x1_max = X[:, 0].min() - 1, X[:, 0].max() + 1\n",
    "    x2_min, x2_max = X[:, 1].min() - 1, X[:, 1].max() + 1\n",
    "    xx1, xx2 = np.meshgrid(np.arange(x1_min, x1_max, resolution),np.arange(x2_min, x2_max, resolution))\n",
    "    Z = classifier.predict(np.array([xx1.ravel(), xx2.ravel()]).T)\n",
    "    Z = Z.reshape(xx1.shape)\n",
    "    plt.contourf(xx1, xx2, Z, alpha=0.3, cmap=cmap)\n",
    "    plt.xlim(xx1.min(), xx1.max())\n",
    "    plt.ylim(xx2.min(), xx2.max())\n",
    "\n",
    "    for idx, cl in enumerate(np.unique(y)):\n",
    "        plt.scatter(x=X[y == cl, 0],y=X[y == cl, 1],alpha=0.8,c=colors[idx],marker=markers[idx],label=cl,edgecolor='black')\n",
    "\n",
    "    # highlight test samples\n",
    "    if test_idx:\n",
    "        # plot all samples\n",
    "        X_test, y_test = X[test_idx, :], y[test_idx]\n",
    "        plt.scatter(X_test[:, 0],X_test[:, 1],c='',edgecolor='black',alpha=1.0,linewidth=1,marker='o',s=100,label='test set')"
   ]
  },
  {
   "cell_type": "markdown",
   "metadata": {},
   "source": [
    "### Feature selection(2 features), normalize and divide train/test data"
   ]
  },
  {
   "cell_type": "code",
   "execution_count": 52,
   "metadata": {
    "collapsed": false
   },
   "outputs": [],
   "source": [
    "y = bank_frm['y_yes']\n",
    "x = bank_frm[['age','balance']]\n",
    "x_train,x_test,y_train,y_test = train_test_split(x,y,test_size=0.3,random_state=0)\n",
    "mms = MinMaxScaler()\n",
    "x_train_norm = mms.fit_transform(x_train)\n",
    "y_train_norm = (np.array(y_train)-np.min(y_train))/(np.max(y_train)-np.min(y_train))\n",
    "x_test_norm = mms.fit_transform(x_test)\n",
    "y_test_norm = (np.array(y_test)-np.min(y_test))/(np.max(y_test)-np.min(y_test))"
   ]
  },
  {
   "cell_type": "markdown",
   "metadata": {},
   "source": [
    "### SVM model training, accuracy score and plot"
   ]
  },
  {
   "cell_type": "code",
   "execution_count": 53,
   "metadata": {
    "collapsed": false
   },
   "outputs": [
    {
     "name": "stdout",
     "output_type": "stream",
     "text": [
      "accuracy score of svm is 0.876934414149\n"
     ]
    },
    {
     "data": {
      "image/png": "[encoded data removed]",
      "text/plain": [
       "<matplotlib.figure.Figure at 0x221e57791d0>"
      ]
     },
     "metadata": {},
     "output_type": "display_data"
    }
   ],
   "source": [
    "svm = SVC(kernel='rbf',C=1.0,random_state=0)\n",
    "svm.fit(x_train_norm,y_train_norm)\n",
    "accuracy_score_train = accuracy_score(y_train_norm,svm.predict(x_train_norm))\n",
    "accuracy_score_test = accuracy_score(y_test,svm.predict(x_test_norm))\n",
    "print('accuracy score of svm is '+str(accuracy_score_test))\n",
    "plt.figure(1)\n",
    "y_combined = np.hstack((y_train_norm,y_test_norm))\n",
    "x_combined = np.vstack((x_train_norm,x_test_norm))\n",
    "plot_decision_regions(X=x_combined, y=y_combined,classifier=svm, test_idx=range(105, 150))\n",
    "plt.show()"
   ]
  },
  {
   "cell_type": "markdown",
   "metadata": {},
   "source": [
    "### Tree model training, accuracy score and plot"
   ]
  },
  {
   "cell_type": "code",
   "execution_count": 54,
   "metadata": {
    "collapsed": false
   },
   "outputs": [
    {
     "name": "stdout",
     "output_type": "stream",
     "text": [
      "accuracy score of decision tree is 0.827560795873\n"
     ]
    },
    {
     "data": {
      "image/png": "[encoded data removed]",
      "text/plain": [
       "<matplotlib.figure.Figure at 0x221e58882b0>"
      ]
     },
     "metadata": {},
     "output_type": "display_data"
    }
   ],
   "source": [
    "tree = DecisionTreeClassifier(criterion='entropy',random_state=0)\n",
    "tree.fit(x_train_norm,y_train_norm)\n",
    "accuracy_score_train = accuracy_score(y_train_norm,tree.predict(x_train_norm))\n",
    "accuracy_score_test = accuracy_score(y_test_norm,tree.predict(x_test_norm))\n",
    "print('accuracy score of decision tree is '+str(accuracy_score_test))\n",
    "plt.figure(2)\n",
    "y_combined = np.hstack((y_train_norm,y_test_norm))\n",
    "x_combined = np.vstack((x_train_norm,x_test_norm))\n",
    "plot_decision_regions(X=x_combined, y=y_combined,classifier=tree, test_idx=range(105, 150))\n",
    "plt.show()"
   ]
  },
  {
   "cell_type": "markdown",
   "metadata": {},
   "source": [
    "### Logistic Regression training, accuracy score and plot"
   ]
  },
  {
   "cell_type": "code",
   "execution_count": 55,
   "metadata": {
    "collapsed": false
   },
   "outputs": [
    {
     "name": "stdout",
     "output_type": "stream",
     "text": [
      "accuracy score of logistic regression is 0.876934414149\n"
     ]
    },
    {
     "data": {
      "image/png": "[encoded data removed]",
      "text/plain": [
       "<matplotlib.figure.Figure at 0x221e57ed828>"
      ]
     },
     "metadata": {},
     "output_type": "display_data"
    }
   ],
   "source": [
    "lr = LogisticRegression(C=1000)\n",
    "lr.fit(x_train_norm,y_train_norm)\n",
    "accuracy_score_train = accuracy_score(y_train_norm,lr.predict(x_train_norm))\n",
    "accuracy_score_test = accuracy_score(y_test_norm,lr.predict(x_test_norm))\n",
    "print('accuracy score of logistic regression is '+str(accuracy_score_test))\n",
    "plt.figure(3)\n",
    "y_combined = np.hstack((y_train_norm,y_test_norm))\n",
    "x_combined = np.vstack((x_train_norm,x_test_norm))\n",
    "plot_decision_regions(X=x_combined, y=y_combined,classifier=lr, test_idx=range(105, 150))\n",
    "plt.show()"
   ]
  },
  {
   "cell_type": "markdown",
   "metadata": {},
   "source": [
    "### Use the three methods above to find best 2 features"
   ]
  },
  {
   "cell_type": "code",
   "execution_count": 56,
   "metadata": {
    "collapsed": false
   },
   "outputs": [
    {
     "name": "stdout",
     "output_type": "stream",
     "text": [
      "The best 2 features of svm is age and poutcome, the highest accuracy score is 0.887251289609\n",
      "The best 2 features of decision tree is marital and poutcome, the highest accuracy score is 0.887251289609\n",
      "The best 2 features of logistic regression is duration and poutcome, the highest accuracy score is 0.899042004422\n"
     ]
    }
   ],
   "source": [
    "y = bank_frm['y_yes']\n",
    "accuracy_score_ix = []\n",
    "accuracy_score_svm = []\n",
    "accuracy_score_dt = []\n",
    "accuracy_score_lr = []\n",
    "for i in range(len(bank_frm.columns)-2):\n",
    "    for j in range(i+1,len(bank_frm.columns)-2):\n",
    "        x = bank_frm.iloc[:,[i,j]]\n",
    "        x = pd.get_dummies(x)\n",
    "        x_train,x_test,y_train,y_test = train_test_split(x,y,test_size=0.3,random_state=0)\n",
    "        mms = MinMaxScaler()\n",
    "        x_train_norm = mms.fit_transform(x_train)\n",
    "        y_train_norm = (np.array(y_train)-np.min(y_train))/(np.max(y_train)-np.min(y_train))\n",
    "        x_test_norm = mms.fit_transform(x_test)\n",
    "        y_test_norm = (np.array(y_test)-np.min(y_test))/(np.max(y_test)-np.min(y_test))\n",
    "        \n",
    "        accuracy_score_ix.append(list(bank_frm.columns[[i,j]]))\n",
    "        # Use SVM to fit\n",
    "        svm = SVC(kernel='rbf',C=1.0,random_state=0)\n",
    "        svm.fit(x_train_norm,y_train_norm)\n",
    "        accuracy_score_train = accuracy_score(y_train_norm,svm.predict(x_train_norm))\n",
    "        accuracy_score_test = accuracy_score(y_test,svm.predict(x_test_norm))\n",
    "        accuracy_score_svm.append([accuracy_score_test])\n",
    "        # Use Decision Tree to fit\n",
    "        tree = DecisionTreeClassifier(criterion='entropy',random_state=0)\n",
    "        tree.fit(x_train_norm,y_train_norm)\n",
    "        accuracy_score_train = accuracy_score(y_train_norm,tree.predict(x_train_norm))\n",
    "        accuracy_score_test = accuracy_score(y_test_norm,tree.predict(x_test_norm))\n",
    "        accuracy_score_dt.append([accuracy_score_test])\n",
    "        # Use Logistic Regression to fit\n",
    "        lr = LogisticRegression(C=1000)\n",
    "        lr.fit(x_train_norm,y_train_norm)\n",
    "        accuracy_score_train = accuracy_score(y_train_norm,lr.predict(x_train_norm))\n",
    "        accuracy_score_test = accuracy_score(y_test_norm,lr.predict(x_test_norm))\n",
    "        accuracy_score_lr.append([accuracy_score_test])\n",
    "\n",
    "svm_best_features = accuracy_score_ix[np.argmax(accuracy_score_svm)]\n",
    "dt_best_features = accuracy_score_ix[np.argmax(accuracy_score_dt)]\n",
    "lr_best_features = accuracy_score_ix[np.argmax(accuracy_score_lr)]\n",
    "print('The best 2 features of svm is '+svm_best_features[0]+' and '+svm_best_features[1]+', the highest accuracy score is '+str(np.max(accuracy_score_svm)))\n",
    "print('The best 2 features of decision tree is '+dt_best_features[0]+' and '+dt_best_features[1]+', the highest accuracy score is '+str(np.max(accuracy_score_dt)))\n",
    "print('The best 2 features of logistic regression is '+lr_best_features[0]+' and '+lr_best_features[1]+', the highest accuracy score is '+str(np.max(accuracy_score_lr)))"
   ]
  },
  {
   "cell_type": "code",
   "execution_count": null,
   "metadata": {
    "collapsed": true
   },
   "outputs": [],
   "source": []
  }
 ],
 "metadata": {
  "kernelspec": {
   "display_name": "Python 3",
   "language": "python",
   "name": "python3"
  },
  "language_info": {
   "codemirror_mode": {
    "name": "ipython",
    "version": 3
   },
   "file_extension": ".py",
   "mimetype": "text/x-python",
   "name": "python",
   "nbconvert_exporter": "python",
   "pygments_lexer": "ipython3",
   "version": "3.6.0"
  }
 },
 "nbformat": 4,
 "nbformat_minor": 2
}
